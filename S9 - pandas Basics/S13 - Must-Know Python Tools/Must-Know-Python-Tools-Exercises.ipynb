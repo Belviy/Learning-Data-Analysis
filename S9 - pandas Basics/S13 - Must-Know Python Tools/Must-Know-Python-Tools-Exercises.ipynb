{
 "cells": [
  {
   "cell_type": "markdown",
   "metadata": {},
   "source": [
    "<hr style=\"border:5px solid #108999\"> </hr>"
   ]
  },
  {
   "cell_type": "markdown",
   "metadata": {},
   "source": [
    "# Must Know Python Tools <hr style=\"border:4.5px solid #108999\"> </hr>"
   ]
  },
  {
   "cell_type": "markdown",
   "metadata": {},
   "source": [
    "## Iterating Over Range Objects, <br><br> Nested For Loops - Introduction, <br><br> Triple Nested For Loops"
   ]
  },
  {
   "cell_type": "markdown",
   "metadata": {},
   "source": [
    "Create a 'range' object with a stop value of 10. \n",
    "Do this operation twice - once without indicating a start value, and then by indicating the start value of 0."
   ]
  },
  {
   "cell_type": "code",
   "execution_count": 21,
   "metadata": {},
   "outputs": [
    {
     "name": "stdout",
     "output_type": "stream",
     "text": [
      "0\n",
      "1\n",
      "2\n",
      "3\n",
      "4\n",
      "5\n",
      "6\n",
      "7\n",
      "8\n",
      "9\n"
     ]
    }
   ],
   "source": [
    "\n",
    "for i in range(10):\n",
    "\n",
    " print(i)"
   ]
  },
  {
   "cell_type": "code",
   "execution_count": 22,
   "metadata": {},
   "outputs": [
    {
     "name": "stdout",
     "output_type": "stream",
     "text": [
      "0\n",
      "1\n",
      "2\n",
      "3\n",
      "4\n",
      "5\n",
      "6\n",
      "7\n",
      "8\n",
      "9\n"
     ]
    }
   ],
   "source": [
    "for i in range(0,10):\n",
    "\n",
    " print(i)"
   ]
  },
  {
   "cell_type": "markdown",
   "metadata": {},
   "source": [
    "Turn this 'range' object into a list of values."
   ]
  },
  {
   "cell_type": "code",
   "execution_count": 25,
   "metadata": {},
   "outputs": [
    {
     "name": "stdout",
     "output_type": "stream",
     "text": [
      "[0, 1, 2, 3, 4, 5, 6, 7, 8, 9]\n"
     ]
    }
   ],
   "source": [
    "x=[i for i in range(0,10)] \n",
    "   \n",
    "print(x)"
   ]
  },
  {
   "cell_type": "markdown",
   "metadata": {},
   "source": [
    "Obtain all integers from 0 to 9 again, this time using a for-loop with a range() function. Let Python display the values in the output vertically."
   ]
  },
  {
   "cell_type": "code",
   "execution_count": 61,
   "metadata": {},
   "outputs": [
    {
     "name": "stdout",
     "output_type": "stream",
     "text": [
      "0\n",
      "1\n",
      "2\n",
      "3\n",
      "4\n",
      "5\n",
      "6\n",
      "7\n",
      "8\n",
      "9\n"
     ]
    }
   ],
   "source": [
    "\n",
    "for num in range(10):\n",
    "    print(num)\n"
   ]
  },
  {
   "cell_type": "markdown",
   "metadata": {},
   "source": [
    "Repeat the same task, this time printing the values from the output on the same line."
   ]
  },
  {
   "cell_type": "code",
   "execution_count": 34,
   "metadata": {},
   "outputs": [
    {
     "name": "stdout",
     "output_type": "stream",
     "text": [
      "[0, 1, 2, 3, 4, 5, 6, 7, 8, 9]\n"
     ]
    }
   ],
   "source": [
    "list=[0, 1, 2, 3, 4, 5, 6, 7, 8, 9]\n",
    "print(list)"
   ]
  },
  {
   "cell_type": "markdown",
   "metadata": {},
   "source": [
    "Create a nested loop that delivers all possible combinations of the elements from the following two lists in the form of lists:"
   ]
  },
  {
   "cell_type": "code",
   "execution_count": 67,
   "metadata": {},
   "outputs": [
    {
     "name": "stdout",
     "output_type": "stream",
     "text": [
      "('Chair_Type_1', 100)\n",
      "('Chair_Type_1', 120)\n",
      "('Chair_Type_1', 135)\n",
      "('Chair_Type_1', 150)\n",
      "('Chair_Type_2', 100)\n",
      "('Chair_Type_2', 120)\n",
      "('Chair_Type_2', 135)\n",
      "('Chair_Type_2', 150)\n",
      "('Chair_Type_3', 100)\n",
      "('Chair_Type_3', 120)\n",
      "('Chair_Type_3', 135)\n",
      "('Chair_Type_3', 150)\n",
      "('Chair_Type_4', 100)\n",
      "('Chair_Type_4', 120)\n",
      "('Chair_Type_4', 135)\n",
      "('Chair_Type_4', 150)\n"
     ]
    }
   ],
   "source": [
    "\n",
    "for i in ['Chair_Type_1', 'Chair_Type_2', 'Chair_Type_3', 'Chair_Type_4']:\n",
    "  for x in  [100, 120, 135, 150]:\n",
    "     \n",
    "      \n",
    "   print((i,x))"
   ]
  },
  {
   "cell_type": "code",
   "execution_count": 68,
   "metadata": {},
   "outputs": [
    {
     "name": "stdout",
     "output_type": "stream",
     "text": [
      "[('Chair_Type_1', 100), ('Chair_Type_1', 120), ('Chair_Type_1', 135), ('Chair_Type_1', 150), ('Chair_Type_2', 100), ('Chair_Type_2', 120), ('Chair_Type_2', 135), ('Chair_Type_2', 150), ('Chair_Type_3', 100), ('Chair_Type_3', 120), ('Chair_Type_3', 135), ('Chair_Type_3', 150), ('Chair_Type_4', 100), ('Chair_Type_4', 120), ('Chair_Type_4', 135), ('Chair_Type_4', 150)]\n"
     ]
    }
   ],
   "source": [
    "x=[(a,b) for a in  ['Chair_Type_1', 'Chair_Type_2', 'Chair_Type_3', 'Chair_Type_4']  for b in [100, 120, 135, 150]  ]\n",
    "print((x))"
   ]
  },
  {
   "cell_type": "markdown",
   "metadata": {},
   "source": [
    "Consider the following list with data, which is our third for this exercise. It represents the possible quantities in which the relevant items can be put on sale."
   ]
  },
  {
   "cell_type": "code",
   "execution_count": null,
   "metadata": {},
   "outputs": [],
   "source": [
    "quantities = [1000, 1500, 1300]"
   ]
  },
  {
   "cell_type": "markdown",
   "metadata": {},
   "source": [
    "Create a triple nested loop that shows the potential revenue generated from each chair type. Use iterator variables with more meaningful names than letters such as i, j, k.\n",
    "<br>Present two versions of the nested loop. Let the first one return a Python list where the chair type is the first element, while the potential revenue is the second element. \n",
    "<br>Then, let the second loop return a more presentable output, where the quantity and potential revenue have been explicitly stated."
   ]
  },
  {
   "cell_type": "code",
   "execution_count": null,
   "metadata": {},
   "outputs": [],
   "source": []
  },
  {
   "cell_type": "code",
   "execution_count": null,
   "metadata": {},
   "outputs": [],
   "source": []
  },
  {
   "cell_type": "markdown",
   "metadata": {},
   "source": [
    "## List Comprehensions"
   ]
  },
  {
   "cell_type": "markdown",
   "metadata": {},
   "source": [
    "Execute the code cell below to create the following three lists: **products_on_sale**, **sale_prices**, **quantities**"
   ]
  },
  {
   "cell_type": "code",
   "execution_count": null,
   "metadata": {},
   "outputs": [],
   "source": [
    "products_on_sale = ['Chair_Type_1', 'Chair_Type_2', 'Chair_Type_3', 'Chair_Type_4']\n",
    "sale_prices = [100, 120, 135, 150]\n",
    "quantities = [1000, 1500, 1300]"
   ]
  },
  {
   "cell_type": "markdown",
   "metadata": {},
   "source": [
    "The following code cell will execute a nested loop that will deliver all possible combinations of the elements from the **products_on_sale**, **sale_prices** and **quantities** lists:"
   ]
  },
  {
   "cell_type": "code",
   "execution_count": 73,
   "metadata": {},
   "outputs": [
    {
     "name": "stdout",
     "output_type": "stream",
     "text": [
      "['Chair_Type_4', 195000]\n"
     ]
    }
   ],
   "source": [
    "products_on_sale = ['Chair_Type_1', 'Chair_Type_2', 'Chair_Type_3', 'Chair_Type_4']\n",
    "sale_prices = [100, 120, 135, 150]\n",
    "quantities = [1000, 1500, 1300]\n",
    "\n",
    "for price in sale_prices:\n",
    "        for quantity in quantities:products_on_sale = ['Chair_Type_1', 'Chair_Type_2', 'Chair_Type_3', 'Chair_Type_4']\n",
    "sale_prices = [100, 120, 135, 150]\n",
    "quantities = [1000, 1500, 1300]\n",
    "print ([chair_type, price*quantity])"
   ]
  },
  {
   "cell_type": "markdown",
   "metadata": {},
   "source": [
    "Use a list comprehension to obtain the same output. Store it in a variable called **sales_revenue**. <br/>\n",
    "Make sure you refrain from obtaining any inexistent \"None\" values."
   ]
  },
  {
   "cell_type": "code",
   "execution_count": null,
   "metadata": {},
   "outputs": [],
   "source": []
  },
  {
   "cell_type": "markdown",
   "metadata": {},
   "source": [
    "**List comprehensions with Conditionals**\n",
    "<br> <br> **Conditional on the iterable**"
   ]
  },
  {
   "cell_type": "markdown",
   "metadata": {},
   "source": [
    "Use a list comprehension to return a list with all even numbers between 1 and 10 inclusive, multiplied by 10."
   ]
  },
  {
   "cell_type": "code",
   "execution_count": null,
   "metadata": {},
   "outputs": [],
   "source": []
  },
  {
   "cell_type": "code",
   "execution_count": null,
   "metadata": {},
   "outputs": [],
   "source": []
  },
  {
   "cell_type": "markdown",
   "metadata": {},
   "source": [
    "We consider the previous answer as the Pythonic way to obtain the output because it involved the use of a list comprehension.\n",
    "Can you think of a way to obtain identical output using a \"Non-Pythonic\" approach, specifically without employing list comprehensions?"
   ]
  },
  {
   "cell_type": "code",
   "execution_count": null,
   "metadata": {},
   "outputs": [],
   "source": []
  },
  {
   "cell_type": "markdown",
   "metadata": {},
   "source": [
    "**Conditional on the output**"
   ]
  },
  {
   "cell_type": "markdown",
   "metadata": {},
   "source": [
    "Return a list that contains the element from range(1, 11) multiplied by 10 if the number is even, and \"None\" if that number is odd."
   ]
  },
  {
   "cell_type": "code",
   "execution_count": null,
   "metadata": {},
   "outputs": [],
   "source": []
  },
  {
   "cell_type": "markdown",
   "metadata": {},
   "source": [
    "## Anonymous Functions"
   ]
  },
  {
   "cell_type": "markdown",
   "metadata": {},
   "source": [
    "Define a function called **multiply_by_10** that will return a value ten times bigger than the argument."
   ]
  },
  {
   "cell_type": "code",
   "execution_count": null,
   "metadata": {},
   "outputs": [],
   "source": []
  },
  {
   "cell_type": "markdown",
   "metadata": {},
   "source": [
    "Apply **multiply_by_10** to the argument of 5. Clearly, you should obtain 50."
   ]
  },
  {
   "cell_type": "code",
   "execution_count": null,
   "metadata": {},
   "outputs": [],
   "source": []
  },
  {
   "cell_type": "markdown",
   "metadata": {},
   "source": [
    "#### Lambda Functions"
   ]
  },
  {
   "cell_type": "markdown",
   "metadata": {},
   "source": [
    "This time, create **multiply_by_10** as a Lambda funciton. Execute it with an argument of 7."
   ]
  },
  {
   "cell_type": "code",
   "execution_count": null,
   "metadata": {},
   "outputs": [],
   "source": []
  },
  {
   "cell_type": "markdown",
   "metadata": {},
   "source": [
    "Define a Lambda function named **product_xy** that returns the product of two parameters, x and y. Execute it with arguments 4 and 20."
   ]
  },
  {
   "cell_type": "code",
   "execution_count": null,
   "metadata": {},
   "outputs": [],
   "source": []
  },
  {
   "cell_type": "markdown",
   "metadata": {},
   "source": [
    "Create a Lambda function that returns the output of the following mathematical expression. Execute it with an argument of 3.\n",
    "<br> $$\n",
    "\\frac{(135 - x^3)^4}{(1 + x)^5}\n",
    "$$"
   ]
  },
  {
   "cell_type": "code",
   "execution_count": null,
   "metadata": {},
   "outputs": [],
   "source": []
  }
 ],
 "metadata": {
  "kernelspec": {
   "display_name": "Python 3 (ipykernel)",
   "language": "python",
   "name": "python3"
  },
  "language_info": {
   "codemirror_mode": {
    "name": "ipython",
    "version": 3
   },
   "file_extension": ".py",
   "mimetype": "text/x-python",
   "name": "python",
   "nbconvert_exporter": "python",
   "pygments_lexer": "ipython3",
   "version": "3.11.7"
  }
 },
 "nbformat": 4,
 "nbformat_minor": 4
}
